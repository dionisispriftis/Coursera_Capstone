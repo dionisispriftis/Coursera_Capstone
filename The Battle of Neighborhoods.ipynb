{
    "cells": [
        {
            "cell_type": "code",
            "execution_count": 2,
            "metadata": {},
            "outputs": [
                {
                    "name": "stdout",
                    "output_type": "stream",
                    "text": "Collecting folium\n  Downloading folium-0.11.0-py2.py3-none-any.whl (93 kB)\n\u001b[K     |\u2588\u2588\u2588\u2588\u2588\u2588\u2588\u2588\u2588\u2588\u2588\u2588\u2588\u2588\u2588\u2588\u2588\u2588\u2588\u2588\u2588\u2588\u2588\u2588\u2588\u2588\u2588\u2588\u2588\u2588\u2588\u2588| 93 kB 2.8 MB/s  eta 0:00:01\n\u001b[?25hCollecting branca>=0.3.0\n  Downloading branca-0.4.1-py3-none-any.whl (24 kB)\nRequirement already satisfied: jinja2>=2.9 in /opt/conda/envs/Python-3.7-main/lib/python3.7/site-packages (from folium) (2.11.2)\nRequirement already satisfied: requests in /opt/conda/envs/Python-3.7-main/lib/python3.7/site-packages (from folium) (2.24.0)\nRequirement already satisfied: numpy in /opt/conda/envs/Python-3.7-main/lib/python3.7/site-packages (from folium) (1.18.5)\nRequirement already satisfied: MarkupSafe>=0.23 in /opt/conda/envs/Python-3.7-main/lib/python3.7/site-packages (from jinja2>=2.9->folium) (1.1.1)\nRequirement already satisfied: idna<3,>=2.5 in /opt/conda/envs/Python-3.7-main/lib/python3.7/site-packages (from requests->folium) (2.9)\nRequirement already satisfied: certifi>=2017.4.17 in /opt/conda/envs/Python-3.7-main/lib/python3.7/site-packages (from requests->folium) (2020.6.20)\nRequirement already satisfied: chardet<4,>=3.0.2 in /opt/conda/envs/Python-3.7-main/lib/python3.7/site-packages (from requests->folium) (3.0.4)\nRequirement already satisfied: urllib3!=1.25.0,!=1.25.1,<1.26,>=1.21.1 in /opt/conda/envs/Python-3.7-main/lib/python3.7/site-packages (from requests->folium) (1.25.9)\nInstalling collected packages: branca, folium\nSuccessfully installed branca-0.4.1 folium-0.11.0\n"
                }
            ],
            "source": "import pandas as pd\nimport numpy as np\n\n#to visualize maps\n!pip install folium\nimport folium"
        },
        {
            "cell_type": "markdown",
            "metadata": {},
            "source": "## Import our data"
        },
        {
            "cell_type": "code",
            "execution_count": 3,
            "metadata": {},
            "outputs": [
                {
                    "data": {
                        "text/html": "<div>\n<style scoped>\n    .dataframe tbody tr th:only-of-type {\n        vertical-align: middle;\n    }\n\n    .dataframe tbody tr th {\n        vertical-align: top;\n    }\n\n    .dataframe thead th {\n        text-align: right;\n    }\n</style>\n<table border=\"1\" class=\"dataframe\">\n  <thead>\n    <tr style=\"text-align: right;\">\n      <th></th>\n      <th>Neighborhoods</th>\n      <th>Latitudes</th>\n      <th>Longitudes</th>\n      <th>Area</th>\n    </tr>\n  </thead>\n  <tbody>\n    <tr>\n      <th>0</th>\n      <td>Artemida</td>\n      <td>37.972288</td>\n      <td>24.012267</td>\n      <td>2</td>\n    </tr>\n    <tr>\n      <th>1</th>\n      <td>Rafina</td>\n      <td>38.023922</td>\n      <td>24.005432</td>\n      <td>2</td>\n    </tr>\n    <tr>\n      <th>2</th>\n      <td>Porto Rafti</td>\n      <td>37.891036</td>\n      <td>24.006039</td>\n      <td>2</td>\n    </tr>\n    <tr>\n      <th>3</th>\n      <td>Markopoulo</td>\n      <td>37.882380</td>\n      <td>23.933239</td>\n      <td>2</td>\n    </tr>\n    <tr>\n      <th>4</th>\n      <td>Koropi</td>\n      <td>37.900138</td>\n      <td>23.875645</td>\n      <td>2</td>\n    </tr>\n  </tbody>\n</table>\n</div>",
                        "text/plain": "  Neighborhoods   Latitudes   Longitudes   Area\n0      Artemida   37.972288    24.012267      2\n1        Rafina   38.023922    24.005432      2\n2   Porto Rafti   37.891036    24.006039      2\n3    Markopoulo   37.882380    23.933239      2\n4        Koropi   37.900138    23.875645      2"
                    },
                    "execution_count": 3,
                    "metadata": {},
                    "output_type": "execute_result"
                }
            ],
            "source": "# The code was removed by Watson Studio for sharing."
        },
        {
            "cell_type": "code",
            "execution_count": 4,
            "metadata": {},
            "outputs": [
                {
                    "data": {
                        "text/plain": "(58, 4)"
                    },
                    "execution_count": 4,
                    "metadata": {},
                    "output_type": "execute_result"
                }
            ],
            "source": "df.shape"
        },
        {
            "cell_type": "code",
            "execution_count": 6,
            "metadata": {},
            "outputs": [
                {
                    "data": {
                        "text/plain": "Index(['Neighborhoods', ' Latitudes', ' Longitudes', ' Area'], dtype='object')"
                    },
                    "execution_count": 6,
                    "metadata": {},
                    "output_type": "execute_result"
                }
            ],
            "source": "df.columns"
        },
        {
            "cell_type": "code",
            "execution_count": 7,
            "metadata": {},
            "outputs": [],
            "source": "df.rename(columns={' Latitudes':'Latitudes' , ' Longitudes':'Longitudes' , ' Area':'Area'} , inplace = True)"
        },
        {
            "cell_type": "markdown",
            "metadata": {},
            "source": "## Explore Areas - using Foursquare API"
        },
        {
            "cell_type": "code",
            "execution_count": 272,
            "metadata": {},
            "outputs": [],
            "source": "# to make a Foursquare API call \n\nCLIENT_ID = '******'\nCLIENT_SECRET = '******'\nVERSION = '20201115'\nRADIUS = 1000\nLIMIT = 100"
        },
        {
            "cell_type": "code",
            "execution_count": 247,
            "metadata": {},
            "outputs": [],
            "source": "import requests\n\nvenues_list = []\n\n# Explore venues for each Neighborhood of the database\n\nfor Neigh, Lat, Lng in zip(df.Neighborhoods, df['Latitudes'], df['Longitudes']):\n    \n    url = 'https://api.foursquare.com/v2/venues/explore?client_id={}&client_secret={}&v={}&ll={},{}&radius={}&limit={}'.format(CLIENT_ID, \n                                                                                                                              CLIENT_SECRET, \n                                                                                                                              VERSION, \n                                                                                                                              Lat, Lng, \n                                                                                                                              radius, \n                                                                                                                              LIMIT)\n    results = requests.get(url).json()  \n    list_of_venues = results['response']['groups'][0]['items']\n    \n    for i in range(0, len(list_of_venues)):\n        name = list_of_venues[i]['venue']['name']\n        lat = list_of_venues[i]['venue']['location']['lat']\n        lng = list_of_venues[i]['venue']['location']['lng']\n        category = list_of_venues[i]['venue']['categories'][0]['name']\n        neighborhood = Neigh\n        venues_list.append([name, lat, lng, category, neighborhood])\n\nvenues = pd.DataFrame(data=venues_list)\nvenues.columns = ['Name', 'Latitude', 'Longitude', 'Category', 'Neighborhood']"
        },
        {
            "cell_type": "code",
            "execution_count": 248,
            "metadata": {},
            "outputs": [
                {
                    "data": {
                        "text/html": "<div>\n<style scoped>\n    .dataframe tbody tr th:only-of-type {\n        vertical-align: middle;\n    }\n\n    .dataframe tbody tr th {\n        vertical-align: top;\n    }\n\n    .dataframe thead th {\n        text-align: right;\n    }\n</style>\n<table border=\"1\" class=\"dataframe\">\n  <thead>\n    <tr style=\"text-align: right;\">\n      <th></th>\n      <th>Name</th>\n      <th>Latitude</th>\n      <th>Longitude</th>\n      <th>Category</th>\n      <th>Neighborhood</th>\n    </tr>\n  </thead>\n  <tbody>\n    <tr>\n      <th>0</th>\n      <td>1989 Molle's</td>\n      <td>37.973867</td>\n      <td>24.010340</td>\n      <td>Beer Bar</td>\n      <td>Artemida</td>\n    </tr>\n    <tr>\n      <th>1</th>\n      <td>\u0394\u03b5\u03bb\u03c6\u03af\u03bd\u03b9\u03b1</td>\n      <td>37.973340</td>\n      <td>24.010362</td>\n      <td>Seafood Restaurant</td>\n      <td>Artemida</td>\n    </tr>\n    <tr>\n      <th>2</th>\n      <td>Albatross</td>\n      <td>37.978347</td>\n      <td>24.008614</td>\n      <td>Caf\u00e9</td>\n      <td>Artemida</td>\n    </tr>\n    <tr>\n      <th>3</th>\n      <td>Taverna Rementzo</td>\n      <td>37.968992</td>\n      <td>24.007264</td>\n      <td>Fish Taverna</td>\n      <td>Artemida</td>\n    </tr>\n    <tr>\n      <th>4</th>\n      <td>Enalio (\u0395\u03bd\u03ac\u03bb\u03b9\u03bf)</td>\n      <td>37.967171</td>\n      <td>24.006441</td>\n      <td>Caf\u00e9</td>\n      <td>Artemida</td>\n    </tr>\n  </tbody>\n</table>\n</div>",
                        "text/plain": "               Name   Latitude  Longitude            Category Neighborhood\n0      1989 Molle's  37.973867  24.010340            Beer Bar     Artemida\n1          \u0394\u03b5\u03bb\u03c6\u03af\u03bd\u03b9\u03b1  37.973340  24.010362  Seafood Restaurant     Artemida\n2         Albatross  37.978347  24.008614                Caf\u00e9     Artemida\n3  Taverna Rementzo  37.968992  24.007264        Fish Taverna     Artemida\n4   Enalio (\u0395\u03bd\u03ac\u03bb\u03b9\u03bf)  37.967171  24.006441                Caf\u00e9     Artemida"
                    },
                    "execution_count": 248,
                    "metadata": {},
                    "output_type": "execute_result"
                }
            ],
            "source": "venues.head()"
        },
        {
            "cell_type": "code",
            "execution_count": 249,
            "metadata": {},
            "outputs": [
                {
                    "data": {
                        "text/plain": "'We have found 4191 venues!'"
                    },
                    "execution_count": 249,
                    "metadata": {},
                    "output_type": "execute_result"
                }
            ],
            "source": "'We have found {} venues!'.format(venues.shape[0])"
        },
        {
            "cell_type": "code",
            "execution_count": 250,
            "metadata": {},
            "outputs": [
                {
                    "data": {
                        "text/plain": "'There are also 285 different categories of venues.'"
                    },
                    "execution_count": 250,
                    "metadata": {},
                    "output_type": "execute_result"
                }
            ],
            "source": "'There are also {} different categories of venues.'.format(len(venues['Category'].unique()))"
        },
        {
            "cell_type": "code",
            "execution_count": 251,
            "metadata": {
                "scrolled": true
            },
            "outputs": [
                {
                    "data": {
                        "text/plain": "array(['Beer Bar', 'Seafood Restaurant', 'Caf\u00e9', 'Fish Taverna',\n       'Meze Restaurant', 'Surf Spot', 'Dessert Shop', 'Souvlaki Shop',\n       'Beach', 'Mobile Phone Shop', 'Mexican Restaurant', 'Coffee Shop',\n       'Tsipouro Restaurant', 'Supermarket', 'Beach Bar',\n       'Grilled Meat Restaurant', 'Creperie', 'Snack Place',\n       'Greek Restaurant', 'Grocery Store', 'Pet Store', 'Bar',\n       'Playground', 'Ouzeri', 'Gym / Fitness Center', 'Movie Theater',\n       'Plaza', 'Chinese Restaurant', 'Hotel', 'Soccer Stadium',\n       'Boat or Ferry', 'Pizza Place', 'Summer Camp', 'Restaurant',\n       'Italian Restaurant', 'Bakery', 'Lounge', 'Taverna', 'Cheese Shop',\n       'Asian Restaurant', 'Ice Cream Shop', 'Hot Dog Joint', 'Park',\n       'Food & Drink Shop', 'Spa', 'Recreation Center', 'Cafeteria',\n       'Dog Run', 'Donut Shop', 'Music Venue', 'Electronics Store',\n       'Sports Club', 'Event Space', 'Gym', 'Cocktail Bar',\n       'Burger Joint', 'Nightclub', 'Optical Shop', 'Video Store',\n       'Flower Shop', 'Athletics & Sports', 'Art Museum', 'BBQ Joint',\n       'Soccer Field', 'Toy / Game Store', 'Ski Lodge', 'Vineyard',\n       'Ski Chairlift', 'Housing Development', 'Pool', 'Bus Stop',\n       'Farmers Market', 'Bridal Shop', 'Campground', 'Tennis Court',\n       'Daycare', 'Volleyball Court', 'Brewery', 'Candy Store',\n       'Accessories Store', 'Fast Food Restaurant', 'Kebab Restaurant',\n       'Gymnastics Gym', 'Martial Arts School', 'Convenience Store',\n       'Bathing Area', 'Motorcycle Shop', 'Dance Studio',\n       'Breakfast Spot', 'Japanese Restaurant', 'Other Nightlife',\n       'Chocolate Shop', 'Sporting Goods Shop', 'Boxing Gym',\n       'Fruit & Vegetable Store', 'Massage Studio', 'Carpet Store',\n       'Furniture / Home Store', 'Pool Hall', 'Health & Beauty Service',\n       'Stadium', 'Performing Arts Venue', 'Indoor Play Area',\n       'Organic Grocery', 'Pharmacy', 'Recording Studio', 'Bookstore',\n       'Historic Site', 'Farm', 'Gaming Cafe', 'African Restaurant',\n       'Wine Bar', 'Mediterranean Restaurant', 'Cupcake Shop',\n       'Tapas Restaurant', 'Sushi Restaurant', 'Garden Center',\n       'Beer Garden', 'Wine Shop', 'Multiplex', 'Mountain', 'Forest',\n       'Botanical Garden', 'Gourmet Shop', 'Hobby Shop', 'Pub',\n       'German Restaurant', 'Salon / Barbershop', 'Office', 'Dairy Store',\n       'Salad Place', 'American Restaurant', 'Basketball Court',\n       'Theater', 'Sandwich Place', 'Indie Movie Theater', 'Bistro',\n       'Kafenio', 'Bagel Shop', 'Cretan Restaurant', 'Noodle House',\n       'Nail Salon', 'Clothing Store', 'Indian Restaurant',\n       'Tennis Stadium', 'Fire Station', 'Betting Shop', 'Scenic Lookout',\n       \"Women's Store\", 'Gift Shop', 'Garden', 'Stables',\n       'Arts & Entertainment', 'Liquor Store', 'Video Game Store',\n       'Food Truck', 'Vape Store', 'Tattoo Parlor', 'Drugstore',\n       'Arts & Crafts Store', 'Pie Shop', 'Cosmetics Shop',\n       'Outdoor Sculpture', 'Shoe Store', 'Rock Club', 'Pastry Shop',\n       'Lingerie Store', 'Basketball Stadium', 'Track Stadium',\n       'Turkish Restaurant', 'Pedestrian Plaza',\n       'Middle Eastern Restaurant', 'Comfort Food Restaurant',\n       'Paper / Office Supplies Store', 'Boutique', 'Food Court',\n       'Hookah Bar', 'Herbs & Spices Store', 'Newsstand', 'Yoga Studio',\n       'Latin American Restaurant', 'Butcher', 'Frozen Yogurt Shop',\n       'Tanning Salon', 'Modern European Restaurant', 'Baseball Field',\n       'Outdoors & Recreation', 'ATM', 'Gym Pool', 'Baby Store',\n       'Fried Chicken Joint', 'Beer Store', 'Fish Market', 'Steakhouse',\n       'Track', 'New American Restaurant', 'Modern Greek Restaurant',\n       'Shopping Mall', 'Bougatsa Shop', 'Salsa Club', 'Magirio',\n       'Kurdish Restaurant', 'Science Museum', 'Trail', 'Market',\n       'Gastropub', 'Vegetarian / Vegan Restaurant', 'Resort',\n       'Theme Park', 'Dive Shop', 'Food Service', 'Dive Spot',\n       'Deli / Bodega', 'Warehouse Store', 'Golf Course',\n       'Auto Dealership', 'Kids Store', 'Preschool', 'Smoke Shop',\n       'Irish Pub', 'Mattress Store', 'Fish & Chips Shop', 'Tram Station',\n       'Department Store', 'Antique Shop', 'Tea Room', 'Hotel Bar',\n       'Falafel Restaurant', 'Russian Restaurant',\n       'General Entertainment', 'River', 'Eastern European Restaurant',\n       'Bubble Tea Shop', 'Music Store', 'Cultural Center', 'Board Shop',\n       'South American Restaurant', 'Thai Restaurant', \"Men's Store\",\n       'Jewelry Store', 'Auto Garage', 'Camera Store', 'Food',\n       'Bowling Alley', 'Light Rail Station', 'Train Station',\n       'Shipping Store', 'Museum', 'Vietnamese Restaurant', 'Whisky Bar',\n       'History Museum', 'French Restaurant', 'Hill',\n       'Peruvian Restaurant', 'Distillery', 'Bed & Breakfast',\n       'Roof Deck', 'Monument / Landmark', 'Print Shop',\n       'Czech Restaurant', 'Gay Bar', 'Dive Bar', 'Hotel Pool',\n       'Fishing Store', 'City', 'Street Food Gathering', 'Social Club',\n       'Planetarium', 'Record Shop', 'Art Gallery', 'Juice Bar',\n       'Tiki Bar', 'Neighborhood', 'Vacation Rental', 'Souvenir Shop',\n       'Patsa Restaurant', 'Skating Rink', 'Business Service', 'Factory',\n       'Rest Area', 'Harbor / Marina', 'Filipino Restaurant',\n       'Skate Park', 'Nudist Beach', 'Buffet'], dtype=object)"
                    },
                    "execution_count": 251,
                    "metadata": {},
                    "output_type": "execute_result"
                }
            ],
            "source": "venues['Category'].unique()"
        },
        {
            "cell_type": "code",
            "execution_count": 252,
            "metadata": {},
            "outputs": [],
            "source": "dummies = pd.get_dummies(venues['Category'])"
        },
        {
            "cell_type": "code",
            "execution_count": 253,
            "metadata": {},
            "outputs": [
                {
                    "data": {
                        "text/html": "<div>\n<style scoped>\n    .dataframe tbody tr th:only-of-type {\n        vertical-align: middle;\n    }\n\n    .dataframe tbody tr th {\n        vertical-align: top;\n    }\n\n    .dataframe thead th {\n        text-align: right;\n    }\n</style>\n<table border=\"1\" class=\"dataframe\">\n  <thead>\n    <tr style=\"text-align: right;\">\n      <th></th>\n      <th>ATM</th>\n      <th>Accessories Store</th>\n      <th>African Restaurant</th>\n      <th>American Restaurant</th>\n      <th>Antique Shop</th>\n      <th>Art Gallery</th>\n      <th>Art Museum</th>\n      <th>Arts &amp; Crafts Store</th>\n      <th>Arts &amp; Entertainment</th>\n      <th>Asian Restaurant</th>\n      <th>...</th>\n      <th>Video Store</th>\n      <th>Vietnamese Restaurant</th>\n      <th>Vineyard</th>\n      <th>Volleyball Court</th>\n      <th>Warehouse Store</th>\n      <th>Whisky Bar</th>\n      <th>Wine Bar</th>\n      <th>Wine Shop</th>\n      <th>Women's Store</th>\n      <th>Yoga Studio</th>\n    </tr>\n  </thead>\n  <tbody>\n    <tr>\n      <th>0</th>\n      <td>0</td>\n      <td>0</td>\n      <td>0</td>\n      <td>0</td>\n      <td>0</td>\n      <td>0</td>\n      <td>0</td>\n      <td>0</td>\n      <td>0</td>\n      <td>0</td>\n      <td>...</td>\n      <td>0</td>\n      <td>0</td>\n      <td>0</td>\n      <td>0</td>\n      <td>0</td>\n      <td>0</td>\n      <td>0</td>\n      <td>0</td>\n      <td>0</td>\n      <td>0</td>\n    </tr>\n    <tr>\n      <th>1</th>\n      <td>0</td>\n      <td>0</td>\n      <td>0</td>\n      <td>0</td>\n      <td>0</td>\n      <td>0</td>\n      <td>0</td>\n      <td>0</td>\n      <td>0</td>\n      <td>0</td>\n      <td>...</td>\n      <td>0</td>\n      <td>0</td>\n      <td>0</td>\n      <td>0</td>\n      <td>0</td>\n      <td>0</td>\n      <td>0</td>\n      <td>0</td>\n      <td>0</td>\n      <td>0</td>\n    </tr>\n    <tr>\n      <th>2</th>\n      <td>0</td>\n      <td>0</td>\n      <td>0</td>\n      <td>0</td>\n      <td>0</td>\n      <td>0</td>\n      <td>0</td>\n      <td>0</td>\n      <td>0</td>\n      <td>0</td>\n      <td>...</td>\n      <td>0</td>\n      <td>0</td>\n      <td>0</td>\n      <td>0</td>\n      <td>0</td>\n      <td>0</td>\n      <td>0</td>\n      <td>0</td>\n      <td>0</td>\n      <td>0</td>\n    </tr>\n    <tr>\n      <th>3</th>\n      <td>0</td>\n      <td>0</td>\n      <td>0</td>\n      <td>0</td>\n      <td>0</td>\n      <td>0</td>\n      <td>0</td>\n      <td>0</td>\n      <td>0</td>\n      <td>0</td>\n      <td>...</td>\n      <td>0</td>\n      <td>0</td>\n      <td>0</td>\n      <td>0</td>\n      <td>0</td>\n      <td>0</td>\n      <td>0</td>\n      <td>0</td>\n      <td>0</td>\n      <td>0</td>\n    </tr>\n    <tr>\n      <th>4</th>\n      <td>0</td>\n      <td>0</td>\n      <td>0</td>\n      <td>0</td>\n      <td>0</td>\n      <td>0</td>\n      <td>0</td>\n      <td>0</td>\n      <td>0</td>\n      <td>0</td>\n      <td>...</td>\n      <td>0</td>\n      <td>0</td>\n      <td>0</td>\n      <td>0</td>\n      <td>0</td>\n      <td>0</td>\n      <td>0</td>\n      <td>0</td>\n      <td>0</td>\n      <td>0</td>\n    </tr>\n  </tbody>\n</table>\n<p>5 rows \u00d7 284 columns</p>\n</div>",
                        "text/plain": "   ATM  Accessories Store  African Restaurant  American Restaurant  \\\n0    0                  0                   0                    0   \n1    0                  0                   0                    0   \n2    0                  0                   0                    0   \n3    0                  0                   0                    0   \n4    0                  0                   0                    0   \n\n   Antique Shop  Art Gallery  Art Museum  Arts & Crafts Store  \\\n0             0            0           0                    0   \n1             0            0           0                    0   \n2             0            0           0                    0   \n3             0            0           0                    0   \n4             0            0           0                    0   \n\n   Arts & Entertainment  Asian Restaurant  ...  Video Store  \\\n0                     0                 0  ...            0   \n1                     0                 0  ...            0   \n2                     0                 0  ...            0   \n3                     0                 0  ...            0   \n4                     0                 0  ...            0   \n\n   Vietnamese Restaurant  Vineyard  Volleyball Court  Warehouse Store  \\\n0                      0         0                 0                0   \n1                      0         0                 0                0   \n2                      0         0                 0                0   \n3                      0         0                 0                0   \n4                      0         0                 0                0   \n\n   Whisky Bar  Wine Bar  Wine Shop  Women's Store  Yoga Studio  \n0           0         0          0              0            0  \n1           0         0          0              0            0  \n2           0         0          0              0            0  \n3           0         0          0              0            0  \n4           0         0          0              0            0  \n\n[5 rows x 284 columns]"
                    },
                    "execution_count": 253,
                    "metadata": {},
                    "output_type": "execute_result"
                }
            ],
            "source": "dummies.drop('Neighborhood',axis=1, inplace=True)\ndummies.head()"
        },
        {
            "cell_type": "code",
            "execution_count": 254,
            "metadata": {},
            "outputs": [
                {
                    "data": {
                        "text/html": "<div>\n<style scoped>\n    .dataframe tbody tr th:only-of-type {\n        vertical-align: middle;\n    }\n\n    .dataframe tbody tr th {\n        vertical-align: top;\n    }\n\n    .dataframe thead th {\n        text-align: right;\n    }\n</style>\n<table border=\"1\" class=\"dataframe\">\n  <thead>\n    <tr style=\"text-align: right;\">\n      <th></th>\n      <th>Name</th>\n      <th>Latitude</th>\n      <th>Longitude</th>\n      <th>Category</th>\n      <th>Neighborhood</th>\n      <th>ATM</th>\n      <th>Accessories Store</th>\n      <th>African Restaurant</th>\n      <th>American Restaurant</th>\n      <th>Antique Shop</th>\n      <th>...</th>\n      <th>Video Store</th>\n      <th>Vietnamese Restaurant</th>\n      <th>Vineyard</th>\n      <th>Volleyball Court</th>\n      <th>Warehouse Store</th>\n      <th>Whisky Bar</th>\n      <th>Wine Bar</th>\n      <th>Wine Shop</th>\n      <th>Women's Store</th>\n      <th>Yoga Studio</th>\n    </tr>\n  </thead>\n  <tbody>\n    <tr>\n      <th>0</th>\n      <td>1989 Molle's</td>\n      <td>37.973867</td>\n      <td>24.010340</td>\n      <td>Beer Bar</td>\n      <td>Artemida</td>\n      <td>0</td>\n      <td>0</td>\n      <td>0</td>\n      <td>0</td>\n      <td>0</td>\n      <td>...</td>\n      <td>0</td>\n      <td>0</td>\n      <td>0</td>\n      <td>0</td>\n      <td>0</td>\n      <td>0</td>\n      <td>0</td>\n      <td>0</td>\n      <td>0</td>\n      <td>0</td>\n    </tr>\n    <tr>\n      <th>1</th>\n      <td>\u0394\u03b5\u03bb\u03c6\u03af\u03bd\u03b9\u03b1</td>\n      <td>37.973340</td>\n      <td>24.010362</td>\n      <td>Seafood Restaurant</td>\n      <td>Artemida</td>\n      <td>0</td>\n      <td>0</td>\n      <td>0</td>\n      <td>0</td>\n      <td>0</td>\n      <td>...</td>\n      <td>0</td>\n      <td>0</td>\n      <td>0</td>\n      <td>0</td>\n      <td>0</td>\n      <td>0</td>\n      <td>0</td>\n      <td>0</td>\n      <td>0</td>\n      <td>0</td>\n    </tr>\n    <tr>\n      <th>2</th>\n      <td>Albatross</td>\n      <td>37.978347</td>\n      <td>24.008614</td>\n      <td>Caf\u00e9</td>\n      <td>Artemida</td>\n      <td>0</td>\n      <td>0</td>\n      <td>0</td>\n      <td>0</td>\n      <td>0</td>\n      <td>...</td>\n      <td>0</td>\n      <td>0</td>\n      <td>0</td>\n      <td>0</td>\n      <td>0</td>\n      <td>0</td>\n      <td>0</td>\n      <td>0</td>\n      <td>0</td>\n      <td>0</td>\n    </tr>\n    <tr>\n      <th>3</th>\n      <td>Taverna Rementzo</td>\n      <td>37.968992</td>\n      <td>24.007264</td>\n      <td>Fish Taverna</td>\n      <td>Artemida</td>\n      <td>0</td>\n      <td>0</td>\n      <td>0</td>\n      <td>0</td>\n      <td>0</td>\n      <td>...</td>\n      <td>0</td>\n      <td>0</td>\n      <td>0</td>\n      <td>0</td>\n      <td>0</td>\n      <td>0</td>\n      <td>0</td>\n      <td>0</td>\n      <td>0</td>\n      <td>0</td>\n    </tr>\n    <tr>\n      <th>4</th>\n      <td>Enalio (\u0395\u03bd\u03ac\u03bb\u03b9\u03bf)</td>\n      <td>37.967171</td>\n      <td>24.006441</td>\n      <td>Caf\u00e9</td>\n      <td>Artemida</td>\n      <td>0</td>\n      <td>0</td>\n      <td>0</td>\n      <td>0</td>\n      <td>0</td>\n      <td>...</td>\n      <td>0</td>\n      <td>0</td>\n      <td>0</td>\n      <td>0</td>\n      <td>0</td>\n      <td>0</td>\n      <td>0</td>\n      <td>0</td>\n      <td>0</td>\n      <td>0</td>\n    </tr>\n  </tbody>\n</table>\n<p>5 rows \u00d7 289 columns</p>\n</div>",
                        "text/plain": "               Name   Latitude  Longitude            Category Neighborhood  \\\n0      1989 Molle's  37.973867  24.010340            Beer Bar     Artemida   \n1          \u0394\u03b5\u03bb\u03c6\u03af\u03bd\u03b9\u03b1  37.973340  24.010362  Seafood Restaurant     Artemida   \n2         Albatross  37.978347  24.008614                Caf\u00e9     Artemida   \n3  Taverna Rementzo  37.968992  24.007264        Fish Taverna     Artemida   \n4   Enalio (\u0395\u03bd\u03ac\u03bb\u03b9\u03bf)  37.967171  24.006441                Caf\u00e9     Artemida   \n\n   ATM  Accessories Store  African Restaurant  American Restaurant  \\\n0    0                  0                   0                    0   \n1    0                  0                   0                    0   \n2    0                  0                   0                    0   \n3    0                  0                   0                    0   \n4    0                  0                   0                    0   \n\n   Antique Shop  ...  Video Store  Vietnamese Restaurant  Vineyard  \\\n0             0  ...            0                      0         0   \n1             0  ...            0                      0         0   \n2             0  ...            0                      0         0   \n3             0  ...            0                      0         0   \n4             0  ...            0                      0         0   \n\n   Volleyball Court  Warehouse Store  Whisky Bar  Wine Bar  Wine Shop  \\\n0                 0                0           0         0          0   \n1                 0                0           0         0          0   \n2                 0                0           0         0          0   \n3                 0                0           0         0          0   \n4                 0                0           0         0          0   \n\n   Women's Store  Yoga Studio  \n0              0            0  \n1              0            0  \n2              0            0  \n3              0            0  \n4              0            0  \n\n[5 rows x 289 columns]"
                    },
                    "execution_count": 254,
                    "metadata": {},
                    "output_type": "execute_result"
                }
            ],
            "source": "venues_dummies = pd.concat([venues, dummies], axis=1, sort=False)\nvenues_dummies.head()"
        },
        {
            "cell_type": "code",
            "execution_count": 255,
            "metadata": {},
            "outputs": [
                {
                    "data": {
                        "text/html": "<div>\n<style scoped>\n    .dataframe tbody tr th:only-of-type {\n        vertical-align: middle;\n    }\n\n    .dataframe tbody tr th {\n        vertical-align: top;\n    }\n\n    .dataframe thead th {\n        text-align: right;\n    }\n</style>\n<table border=\"1\" class=\"dataframe\">\n  <thead>\n    <tr style=\"text-align: right;\">\n      <th></th>\n      <th>Neighborhood</th>\n      <th>ATM</th>\n      <th>Accessories Store</th>\n      <th>African Restaurant</th>\n      <th>American Restaurant</th>\n      <th>Antique Shop</th>\n      <th>Art Gallery</th>\n      <th>Art Museum</th>\n      <th>Arts &amp; Crafts Store</th>\n      <th>Arts &amp; Entertainment</th>\n      <th>...</th>\n      <th>Video Store</th>\n      <th>Vietnamese Restaurant</th>\n      <th>Vineyard</th>\n      <th>Volleyball Court</th>\n      <th>Warehouse Store</th>\n      <th>Whisky Bar</th>\n      <th>Wine Bar</th>\n      <th>Wine Shop</th>\n      <th>Women's Store</th>\n      <th>Yoga Studio</th>\n    </tr>\n  </thead>\n  <tbody>\n    <tr>\n      <th>0</th>\n      <td>Artemida</td>\n      <td>0</td>\n      <td>0</td>\n      <td>0</td>\n      <td>0</td>\n      <td>0</td>\n      <td>0</td>\n      <td>0</td>\n      <td>0</td>\n      <td>0</td>\n      <td>...</td>\n      <td>0</td>\n      <td>0</td>\n      <td>0</td>\n      <td>0</td>\n      <td>0</td>\n      <td>0</td>\n      <td>0</td>\n      <td>0</td>\n      <td>0</td>\n      <td>0</td>\n    </tr>\n    <tr>\n      <th>1</th>\n      <td>Artemida</td>\n      <td>0</td>\n      <td>0</td>\n      <td>0</td>\n      <td>0</td>\n      <td>0</td>\n      <td>0</td>\n      <td>0</td>\n      <td>0</td>\n      <td>0</td>\n      <td>...</td>\n      <td>0</td>\n      <td>0</td>\n      <td>0</td>\n      <td>0</td>\n      <td>0</td>\n      <td>0</td>\n      <td>0</td>\n      <td>0</td>\n      <td>0</td>\n      <td>0</td>\n    </tr>\n    <tr>\n      <th>2</th>\n      <td>Artemida</td>\n      <td>0</td>\n      <td>0</td>\n      <td>0</td>\n      <td>0</td>\n      <td>0</td>\n      <td>0</td>\n      <td>0</td>\n      <td>0</td>\n      <td>0</td>\n      <td>...</td>\n      <td>0</td>\n      <td>0</td>\n      <td>0</td>\n      <td>0</td>\n      <td>0</td>\n      <td>0</td>\n      <td>0</td>\n      <td>0</td>\n      <td>0</td>\n      <td>0</td>\n    </tr>\n    <tr>\n      <th>3</th>\n      <td>Artemida</td>\n      <td>0</td>\n      <td>0</td>\n      <td>0</td>\n      <td>0</td>\n      <td>0</td>\n      <td>0</td>\n      <td>0</td>\n      <td>0</td>\n      <td>0</td>\n      <td>...</td>\n      <td>0</td>\n      <td>0</td>\n      <td>0</td>\n      <td>0</td>\n      <td>0</td>\n      <td>0</td>\n      <td>0</td>\n      <td>0</td>\n      <td>0</td>\n      <td>0</td>\n    </tr>\n    <tr>\n      <th>4</th>\n      <td>Artemida</td>\n      <td>0</td>\n      <td>0</td>\n      <td>0</td>\n      <td>0</td>\n      <td>0</td>\n      <td>0</td>\n      <td>0</td>\n      <td>0</td>\n      <td>0</td>\n      <td>...</td>\n      <td>0</td>\n      <td>0</td>\n      <td>0</td>\n      <td>0</td>\n      <td>0</td>\n      <td>0</td>\n      <td>0</td>\n      <td>0</td>\n      <td>0</td>\n      <td>0</td>\n    </tr>\n  </tbody>\n</table>\n<p>5 rows \u00d7 285 columns</p>\n</div>",
                        "text/plain": "  Neighborhood  ATM  Accessories Store  African Restaurant  \\\n0     Artemida    0                  0                   0   \n1     Artemida    0                  0                   0   \n2     Artemida    0                  0                   0   \n3     Artemida    0                  0                   0   \n4     Artemida    0                  0                   0   \n\n   American Restaurant  Antique Shop  Art Gallery  Art Museum  \\\n0                    0             0            0           0   \n1                    0             0            0           0   \n2                    0             0            0           0   \n3                    0             0            0           0   \n4                    0             0            0           0   \n\n   Arts & Crafts Store  Arts & Entertainment  ...  Video Store  \\\n0                    0                     0  ...            0   \n1                    0                     0  ...            0   \n2                    0                     0  ...            0   \n3                    0                     0  ...            0   \n4                    0                     0  ...            0   \n\n   Vietnamese Restaurant  Vineyard  Volleyball Court  Warehouse Store  \\\n0                      0         0                 0                0   \n1                      0         0                 0                0   \n2                      0         0                 0                0   \n3                      0         0                 0                0   \n4                      0         0                 0                0   \n\n   Whisky Bar  Wine Bar  Wine Shop  Women's Store  Yoga Studio  \n0           0         0          0              0            0  \n1           0         0          0              0            0  \n2           0         0          0              0            0  \n3           0         0          0              0            0  \n4           0         0          0              0            0  \n\n[5 rows x 285 columns]"
                    },
                    "execution_count": 255,
                    "metadata": {},
                    "output_type": "execute_result"
                }
            ],
            "source": "venues_dummies = venues_dummies.drop(['Name', 'Latitude', 'Longitude', 'Category'], axis=1)\nvenues_dummies.head()"
        },
        {
            "cell_type": "code",
            "execution_count": 256,
            "metadata": {},
            "outputs": [
                {
                    "data": {
                        "text/html": "<div>\n<style scoped>\n    .dataframe tbody tr th:only-of-type {\n        vertical-align: middle;\n    }\n\n    .dataframe tbody tr th {\n        vertical-align: top;\n    }\n\n    .dataframe thead th {\n        text-align: right;\n    }\n</style>\n<table border=\"1\" class=\"dataframe\">\n  <thead>\n    <tr style=\"text-align: right;\">\n      <th></th>\n      <th>Neighborhood</th>\n      <th>ATM</th>\n      <th>Accessories Store</th>\n      <th>African Restaurant</th>\n      <th>American Restaurant</th>\n      <th>Antique Shop</th>\n      <th>Art Gallery</th>\n      <th>Art Museum</th>\n      <th>Arts &amp; Crafts Store</th>\n      <th>Arts &amp; Entertainment</th>\n      <th>...</th>\n      <th>Video Store</th>\n      <th>Vietnamese Restaurant</th>\n      <th>Vineyard</th>\n      <th>Volleyball Court</th>\n      <th>Warehouse Store</th>\n      <th>Whisky Bar</th>\n      <th>Wine Bar</th>\n      <th>Wine Shop</th>\n      <th>Women's Store</th>\n      <th>Yoga Studio</th>\n    </tr>\n  </thead>\n  <tbody>\n    <tr>\n      <th>0</th>\n      <td>Acharnes</td>\n      <td>0.000000</td>\n      <td>0.0</td>\n      <td>0.0</td>\n      <td>0.0</td>\n      <td>0.00</td>\n      <td>0.0</td>\n      <td>0.0</td>\n      <td>0.00</td>\n      <td>0.0</td>\n      <td>...</td>\n      <td>0.0</td>\n      <td>0.0</td>\n      <td>0.0</td>\n      <td>0.000000</td>\n      <td>0.000000</td>\n      <td>0.0</td>\n      <td>0.000000</td>\n      <td>0.00</td>\n      <td>0.000000</td>\n      <td>0.00</td>\n    </tr>\n    <tr>\n      <th>1</th>\n      <td>Agia Paraskevi</td>\n      <td>0.000000</td>\n      <td>0.0</td>\n      <td>0.0</td>\n      <td>0.0</td>\n      <td>0.00</td>\n      <td>0.0</td>\n      <td>0.0</td>\n      <td>0.00</td>\n      <td>0.0</td>\n      <td>...</td>\n      <td>0.0</td>\n      <td>0.0</td>\n      <td>0.0</td>\n      <td>0.000000</td>\n      <td>0.000000</td>\n      <td>0.0</td>\n      <td>0.000000</td>\n      <td>0.01</td>\n      <td>0.000000</td>\n      <td>0.01</td>\n    </tr>\n    <tr>\n      <th>2</th>\n      <td>Alimos</td>\n      <td>0.000000</td>\n      <td>0.0</td>\n      <td>0.0</td>\n      <td>0.0</td>\n      <td>0.01</td>\n      <td>0.0</td>\n      <td>0.0</td>\n      <td>0.01</td>\n      <td>0.0</td>\n      <td>...</td>\n      <td>0.0</td>\n      <td>0.0</td>\n      <td>0.0</td>\n      <td>0.000000</td>\n      <td>0.000000</td>\n      <td>0.0</td>\n      <td>0.000000</td>\n      <td>0.00</td>\n      <td>0.000000</td>\n      <td>0.00</td>\n    </tr>\n    <tr>\n      <th>3</th>\n      <td>Ano Liosia</td>\n      <td>0.000000</td>\n      <td>0.0</td>\n      <td>0.0</td>\n      <td>0.0</td>\n      <td>0.00</td>\n      <td>0.0</td>\n      <td>0.0</td>\n      <td>0.00</td>\n      <td>0.0</td>\n      <td>...</td>\n      <td>0.0</td>\n      <td>0.0</td>\n      <td>0.0</td>\n      <td>0.000000</td>\n      <td>0.000000</td>\n      <td>0.0</td>\n      <td>0.000000</td>\n      <td>0.00</td>\n      <td>0.000000</td>\n      <td>0.00</td>\n    </tr>\n    <tr>\n      <th>4</th>\n      <td>Argiroupoli</td>\n      <td>0.010309</td>\n      <td>0.0</td>\n      <td>0.0</td>\n      <td>0.0</td>\n      <td>0.00</td>\n      <td>0.0</td>\n      <td>0.0</td>\n      <td>0.00</td>\n      <td>0.0</td>\n      <td>...</td>\n      <td>0.0</td>\n      <td>0.0</td>\n      <td>0.0</td>\n      <td>0.010309</td>\n      <td>0.010309</td>\n      <td>0.0</td>\n      <td>0.010309</td>\n      <td>0.00</td>\n      <td>0.010309</td>\n      <td>0.00</td>\n    </tr>\n  </tbody>\n</table>\n<p>5 rows \u00d7 285 columns</p>\n</div>",
                        "text/plain": "     Neighborhood       ATM  Accessories Store  African Restaurant  \\\n0        Acharnes  0.000000                0.0                 0.0   \n1  Agia Paraskevi  0.000000                0.0                 0.0   \n2          Alimos  0.000000                0.0                 0.0   \n3      Ano Liosia  0.000000                0.0                 0.0   \n4     Argiroupoli  0.010309                0.0                 0.0   \n\n   American Restaurant  Antique Shop  Art Gallery  Art Museum  \\\n0                  0.0          0.00          0.0         0.0   \n1                  0.0          0.00          0.0         0.0   \n2                  0.0          0.01          0.0         0.0   \n3                  0.0          0.00          0.0         0.0   \n4                  0.0          0.00          0.0         0.0   \n\n   Arts & Crafts Store  Arts & Entertainment  ...  Video Store  \\\n0                 0.00                   0.0  ...          0.0   \n1                 0.00                   0.0  ...          0.0   \n2                 0.01                   0.0  ...          0.0   \n3                 0.00                   0.0  ...          0.0   \n4                 0.00                   0.0  ...          0.0   \n\n   Vietnamese Restaurant  Vineyard  Volleyball Court  Warehouse Store  \\\n0                    0.0       0.0          0.000000         0.000000   \n1                    0.0       0.0          0.000000         0.000000   \n2                    0.0       0.0          0.000000         0.000000   \n3                    0.0       0.0          0.000000         0.000000   \n4                    0.0       0.0          0.010309         0.010309   \n\n   Whisky Bar  Wine Bar  Wine Shop  Women's Store  Yoga Studio  \n0         0.0  0.000000       0.00       0.000000         0.00  \n1         0.0  0.000000       0.01       0.000000         0.01  \n2         0.0  0.000000       0.00       0.000000         0.00  \n3         0.0  0.000000       0.00       0.000000         0.00  \n4         0.0  0.010309       0.00       0.010309         0.00  \n\n[5 rows x 285 columns]"
                    },
                    "execution_count": 256,
                    "metadata": {},
                    "output_type": "execute_result"
                }
            ],
            "source": "venues_grouped = venues_dummies.groupby('Neighborhood').mean().reset_index()\nvenues_grouped.head()"
        },
        {
            "cell_type": "markdown",
            "metadata": {},
            "source": "## Input rating for previously visited areas"
        },
        {
            "cell_type": "code",
            "execution_count": 257,
            "metadata": {},
            "outputs": [
                {
                    "data": {
                        "text/html": "<div>\n<style scoped>\n    .dataframe tbody tr th:only-of-type {\n        vertical-align: middle;\n    }\n\n    .dataframe tbody tr th {\n        vertical-align: top;\n    }\n\n    .dataframe thead th {\n        text-align: right;\n    }\n</style>\n<table border=\"1\" class=\"dataframe\">\n  <thead>\n    <tr style=\"text-align: right;\">\n      <th></th>\n      <th>Agia Paraskevi</th>\n      <th>Glyfada</th>\n      <th>Penteli</th>\n    </tr>\n  </thead>\n  <tbody>\n    <tr>\n      <th>Rating</th>\n      <td>9</td>\n      <td>8</td>\n      <td>10</td>\n    </tr>\n  </tbody>\n</table>\n</div>",
                        "text/plain": "        Agia Paraskevi  Glyfada  Penteli\nRating               9        8       10"
                    },
                    "execution_count": 257,
                    "metadata": {},
                    "output_type": "execute_result"
                }
            ],
            "source": "A = {'Glyfada': [8] , 'Penteli': [10] ,'Agia Paraskevi': [9] }\n\nInputRatings = pd.DataFrame(data=A)\ncols = InputRatings.columns.to_list()\ncols.sort()\nInputRatings = InputRatings[cols]\nInputRatings = InputRatings.transpose().rename(columns={0:'Rating'}).transpose()\nInputRatings"
        },
        {
            "cell_type": "markdown",
            "metadata": {},
            "source": "### Create user's profile with his preferences"
        },
        {
            "cell_type": "code",
            "execution_count": 258,
            "metadata": {},
            "outputs": [
                {
                    "data": {
                        "text/html": "<div>\n<style scoped>\n    .dataframe tbody tr th:only-of-type {\n        vertical-align: middle;\n    }\n\n    .dataframe tbody tr th {\n        vertical-align: top;\n    }\n\n    .dataframe thead th {\n        text-align: right;\n    }\n</style>\n<table border=\"1\" class=\"dataframe\">\n  <thead>\n    <tr style=\"text-align: right;\">\n      <th></th>\n      <th>ATM</th>\n      <th>Accessories Store</th>\n      <th>African Restaurant</th>\n      <th>American Restaurant</th>\n      <th>Antique Shop</th>\n      <th>Art Gallery</th>\n      <th>Art Museum</th>\n      <th>Arts &amp; Crafts Store</th>\n      <th>Arts &amp; Entertainment</th>\n      <th>Asian Restaurant</th>\n      <th>...</th>\n      <th>Video Store</th>\n      <th>Vietnamese Restaurant</th>\n      <th>Vineyard</th>\n      <th>Volleyball Court</th>\n      <th>Warehouse Store</th>\n      <th>Whisky Bar</th>\n      <th>Wine Bar</th>\n      <th>Wine Shop</th>\n      <th>Women's Store</th>\n      <th>Yoga Studio</th>\n    </tr>\n    <tr>\n      <th>Neighborhood</th>\n      <th></th>\n      <th></th>\n      <th></th>\n      <th></th>\n      <th></th>\n      <th></th>\n      <th></th>\n      <th></th>\n      <th></th>\n      <th></th>\n      <th></th>\n      <th></th>\n      <th></th>\n      <th></th>\n      <th></th>\n      <th></th>\n      <th></th>\n      <th></th>\n      <th></th>\n      <th></th>\n      <th></th>\n    </tr>\n  </thead>\n  <tbody>\n    <tr>\n      <th>Acharnes</th>\n      <td>0.000000</td>\n      <td>0.0</td>\n      <td>0.0</td>\n      <td>0.0</td>\n      <td>0.00</td>\n      <td>0.0</td>\n      <td>0.0</td>\n      <td>0.00</td>\n      <td>0.0</td>\n      <td>0.00</td>\n      <td>...</td>\n      <td>0.0</td>\n      <td>0.0</td>\n      <td>0.0</td>\n      <td>0.000000</td>\n      <td>0.000000</td>\n      <td>0.0</td>\n      <td>0.000000</td>\n      <td>0.00</td>\n      <td>0.000000</td>\n      <td>0.00</td>\n    </tr>\n    <tr>\n      <th>Agia Paraskevi</th>\n      <td>0.000000</td>\n      <td>0.0</td>\n      <td>0.0</td>\n      <td>0.0</td>\n      <td>0.00</td>\n      <td>0.0</td>\n      <td>0.0</td>\n      <td>0.00</td>\n      <td>0.0</td>\n      <td>0.00</td>\n      <td>...</td>\n      <td>0.0</td>\n      <td>0.0</td>\n      <td>0.0</td>\n      <td>0.000000</td>\n      <td>0.000000</td>\n      <td>0.0</td>\n      <td>0.000000</td>\n      <td>0.01</td>\n      <td>0.000000</td>\n      <td>0.01</td>\n    </tr>\n    <tr>\n      <th>Alimos</th>\n      <td>0.000000</td>\n      <td>0.0</td>\n      <td>0.0</td>\n      <td>0.0</td>\n      <td>0.01</td>\n      <td>0.0</td>\n      <td>0.0</td>\n      <td>0.01</td>\n      <td>0.0</td>\n      <td>0.01</td>\n      <td>...</td>\n      <td>0.0</td>\n      <td>0.0</td>\n      <td>0.0</td>\n      <td>0.000000</td>\n      <td>0.000000</td>\n      <td>0.0</td>\n      <td>0.000000</td>\n      <td>0.00</td>\n      <td>0.000000</td>\n      <td>0.00</td>\n    </tr>\n    <tr>\n      <th>Ano Liosia</th>\n      <td>0.000000</td>\n      <td>0.0</td>\n      <td>0.0</td>\n      <td>0.0</td>\n      <td>0.00</td>\n      <td>0.0</td>\n      <td>0.0</td>\n      <td>0.00</td>\n      <td>0.0</td>\n      <td>0.00</td>\n      <td>...</td>\n      <td>0.0</td>\n      <td>0.0</td>\n      <td>0.0</td>\n      <td>0.000000</td>\n      <td>0.000000</td>\n      <td>0.0</td>\n      <td>0.000000</td>\n      <td>0.00</td>\n      <td>0.000000</td>\n      <td>0.00</td>\n    </tr>\n    <tr>\n      <th>Argiroupoli</th>\n      <td>0.010309</td>\n      <td>0.0</td>\n      <td>0.0</td>\n      <td>0.0</td>\n      <td>0.00</td>\n      <td>0.0</td>\n      <td>0.0</td>\n      <td>0.00</td>\n      <td>0.0</td>\n      <td>0.00</td>\n      <td>...</td>\n      <td>0.0</td>\n      <td>0.0</td>\n      <td>0.0</td>\n      <td>0.010309</td>\n      <td>0.010309</td>\n      <td>0.0</td>\n      <td>0.010309</td>\n      <td>0.00</td>\n      <td>0.010309</td>\n      <td>0.00</td>\n    </tr>\n  </tbody>\n</table>\n<p>5 rows \u00d7 284 columns</p>\n</div>",
                        "text/plain": "                     ATM  Accessories Store  African Restaurant  \\\nNeighborhood                                                      \nAcharnes        0.000000                0.0                 0.0   \nAgia Paraskevi  0.000000                0.0                 0.0   \nAlimos          0.000000                0.0                 0.0   \nAno Liosia      0.000000                0.0                 0.0   \nArgiroupoli     0.010309                0.0                 0.0   \n\n                American Restaurant  Antique Shop  Art Gallery  Art Museum  \\\nNeighborhood                                                                 \nAcharnes                        0.0          0.00          0.0         0.0   \nAgia Paraskevi                  0.0          0.00          0.0         0.0   \nAlimos                          0.0          0.01          0.0         0.0   \nAno Liosia                      0.0          0.00          0.0         0.0   \nArgiroupoli                     0.0          0.00          0.0         0.0   \n\n                Arts & Crafts Store  Arts & Entertainment  Asian Restaurant  \\\nNeighborhood                                                                  \nAcharnes                       0.00                   0.0              0.00   \nAgia Paraskevi                 0.00                   0.0              0.00   \nAlimos                         0.01                   0.0              0.01   \nAno Liosia                     0.00                   0.0              0.00   \nArgiroupoli                    0.00                   0.0              0.00   \n\n                ...  Video Store  Vietnamese Restaurant  Vineyard  \\\nNeighborhood    ...                                                 \nAcharnes        ...          0.0                    0.0       0.0   \nAgia Paraskevi  ...          0.0                    0.0       0.0   \nAlimos          ...          0.0                    0.0       0.0   \nAno Liosia      ...          0.0                    0.0       0.0   \nArgiroupoli     ...          0.0                    0.0       0.0   \n\n                Volleyball Court  Warehouse Store  Whisky Bar  Wine Bar  \\\nNeighborhood                                                              \nAcharnes                0.000000         0.000000         0.0  0.000000   \nAgia Paraskevi          0.000000         0.000000         0.0  0.000000   \nAlimos                  0.000000         0.000000         0.0  0.000000   \nAno Liosia              0.000000         0.000000         0.0  0.000000   \nArgiroupoli             0.010309         0.010309         0.0  0.010309   \n\n                Wine Shop  Women's Store  Yoga Studio  \nNeighborhood                                           \nAcharnes             0.00       0.000000         0.00  \nAgia Paraskevi       0.01       0.000000         0.01  \nAlimos               0.00       0.000000         0.00  \nAno Liosia           0.00       0.000000         0.00  \nArgiroupoli          0.00       0.010309         0.00  \n\n[5 rows x 284 columns]"
                    },
                    "execution_count": 258,
                    "metadata": {},
                    "output_type": "execute_result"
                }
            ],
            "source": "neighborhood_venues = venues_grouped.set_index('Neighborhood')\nneighborhood_venues.head()"
        },
        {
            "cell_type": "code",
            "execution_count": 259,
            "metadata": {
                "scrolled": true
            },
            "outputs": [],
            "source": "list_of_categories = []\n\nfor i in range(0,len(A.keys())):\n    mylist = neighborhood_venues.loc[InputRatings.columns[i]]!=0\n    for j in range(0, len(mylist)):\n        if(mylist[j]):\n            list_of_categories.append(neighborhood_venues.columns[j])\n\nlist_of_categories=np.unique(list_of_categories)       "
        },
        {
            "cell_type": "code",
            "execution_count": 260,
            "metadata": {},
            "outputs": [
                {
                    "data": {
                        "text/plain": "\"86 different venues were included in User's rating\""
                    },
                    "execution_count": 260,
                    "metadata": {},
                    "output_type": "execute_result"
                }
            ],
            "source": "'{} different venues were included in User\\'s rating'.format(len(list_of_categories))"
        },
        {
            "cell_type": "code",
            "execution_count": 261,
            "metadata": {},
            "outputs": [
                {
                    "data": {
                        "text/html": "<div>\n<style scoped>\n    .dataframe tbody tr th:only-of-type {\n        vertical-align: middle;\n    }\n\n    .dataframe tbody tr th {\n        vertical-align: top;\n    }\n\n    .dataframe thead th {\n        text-align: right;\n    }\n</style>\n<table border=\"1\" class=\"dataframe\">\n  <thead>\n    <tr style=\"text-align: right;\">\n      <th></th>\n      <th>American Restaurant</th>\n      <th>Auto Dealership</th>\n      <th>BBQ Joint</th>\n      <th>Baby Store</th>\n      <th>Bagel Shop</th>\n      <th>Bakery</th>\n      <th>Bar</th>\n      <th>Beer Bar</th>\n      <th>Beer Store</th>\n      <th>Bistro</th>\n      <th>...</th>\n      <th>Supermarket</th>\n      <th>Sushi Restaurant</th>\n      <th>Taverna</th>\n      <th>Tennis Court</th>\n      <th>Track Stadium</th>\n      <th>Tsipouro Restaurant</th>\n      <th>Vegetarian / Vegan Restaurant</th>\n      <th>Video Store</th>\n      <th>Wine Shop</th>\n      <th>Yoga Studio</th>\n    </tr>\n  </thead>\n  <tbody>\n    <tr>\n      <th>Agia Paraskevi</th>\n      <td>0.00</td>\n      <td>0.00</td>\n      <td>0.01</td>\n      <td>0.02</td>\n      <td>0.01</td>\n      <td>0.050000</td>\n      <td>0.040000</td>\n      <td>0.01</td>\n      <td>0.01</td>\n      <td>0.01</td>\n      <td>...</td>\n      <td>0.03</td>\n      <td>0.01</td>\n      <td>0.010000</td>\n      <td>0.01</td>\n      <td>0.00</td>\n      <td>0.00</td>\n      <td>0.00</td>\n      <td>0.00</td>\n      <td>0.01</td>\n      <td>0.01</td>\n    </tr>\n    <tr>\n      <th>Glyfada</th>\n      <td>0.01</td>\n      <td>0.01</td>\n      <td>0.00</td>\n      <td>0.00</td>\n      <td>0.00</td>\n      <td>0.040000</td>\n      <td>0.010000</td>\n      <td>0.00</td>\n      <td>0.00</td>\n      <td>0.00</td>\n      <td>...</td>\n      <td>0.07</td>\n      <td>0.01</td>\n      <td>0.020000</td>\n      <td>0.02</td>\n      <td>0.01</td>\n      <td>0.01</td>\n      <td>0.01</td>\n      <td>0.01</td>\n      <td>0.01</td>\n      <td>0.00</td>\n    </tr>\n    <tr>\n      <th>Penteli</th>\n      <td>0.00</td>\n      <td>0.00</td>\n      <td>0.00</td>\n      <td>0.00</td>\n      <td>0.00</td>\n      <td>0.074074</td>\n      <td>0.037037</td>\n      <td>0.00</td>\n      <td>0.00</td>\n      <td>0.00</td>\n      <td>...</td>\n      <td>0.00</td>\n      <td>0.00</td>\n      <td>0.074074</td>\n      <td>0.00</td>\n      <td>0.00</td>\n      <td>0.00</td>\n      <td>0.00</td>\n      <td>0.00</td>\n      <td>0.00</td>\n      <td>0.00</td>\n    </tr>\n  </tbody>\n</table>\n<p>3 rows \u00d7 86 columns</p>\n</div>",
                        "text/plain": "                American Restaurant  Auto Dealership  BBQ Joint  Baby Store  \\\nAgia Paraskevi                 0.00             0.00       0.01        0.02   \nGlyfada                        0.01             0.01       0.00        0.00   \nPenteli                        0.00             0.00       0.00        0.00   \n\n                Bagel Shop    Bakery       Bar  Beer Bar  Beer Store  Bistro  \\\nAgia Paraskevi        0.01  0.050000  0.040000      0.01        0.01    0.01   \nGlyfada               0.00  0.040000  0.010000      0.00        0.00    0.00   \nPenteli               0.00  0.074074  0.037037      0.00        0.00    0.00   \n\n                ...  Supermarket  Sushi Restaurant   Taverna  Tennis Court  \\\nAgia Paraskevi  ...         0.03              0.01  0.010000          0.01   \nGlyfada         ...         0.07              0.01  0.020000          0.02   \nPenteli         ...         0.00              0.00  0.074074          0.00   \n\n                Track Stadium  Tsipouro Restaurant  \\\nAgia Paraskevi           0.00                 0.00   \nGlyfada                  0.01                 0.01   \nPenteli                  0.00                 0.00   \n\n                Vegetarian / Vegan Restaurant  Video Store  Wine Shop  \\\nAgia Paraskevi                           0.00         0.00       0.01   \nGlyfada                                  0.01         0.01       0.01   \nPenteli                                  0.00         0.00       0.00   \n\n                Yoga Studio  \nAgia Paraskevi         0.01  \nGlyfada                0.00  \nPenteli                0.00  \n\n[3 rows x 86 columns]"
                    },
                    "execution_count": 261,
                    "metadata": {},
                    "output_type": "execute_result"
                }
            ],
            "source": "Feature_Set = neighborhood_venues[list_of_categories].loc[InputRatings.columns]\nFeature_Set.head()"
        },
        {
            "cell_type": "code",
            "execution_count": 262,
            "metadata": {},
            "outputs": [
                {
                    "data": {
                        "text/html": "<div>\n<style scoped>\n    .dataframe tbody tr th:only-of-type {\n        vertical-align: middle;\n    }\n\n    .dataframe tbody tr th {\n        vertical-align: top;\n    }\n\n    .dataframe thead th {\n        text-align: right;\n    }\n</style>\n<table border=\"1\" class=\"dataframe\">\n  <thead>\n    <tr style=\"text-align: right;\">\n      <th></th>\n      <th>Rating</th>\n    </tr>\n  </thead>\n  <tbody>\n    <tr>\n      <th>American Restaurant</th>\n      <td>0.08</td>\n    </tr>\n    <tr>\n      <th>Auto Dealership</th>\n      <td>0.08</td>\n    </tr>\n    <tr>\n      <th>BBQ Joint</th>\n      <td>0.09</td>\n    </tr>\n    <tr>\n      <th>Baby Store</th>\n      <td>0.18</td>\n    </tr>\n    <tr>\n      <th>Bagel Shop</th>\n      <td>0.09</td>\n    </tr>\n  </tbody>\n</table>\n</div>",
                        "text/plain": "                     Rating\nAmerican Restaurant    0.08\nAuto Dealership        0.08\nBBQ Joint              0.09\nBaby Store             0.18\nBagel Shop             0.09"
                    },
                    "execution_count": 262,
                    "metadata": {},
                    "output_type": "execute_result"
                }
            ],
            "source": "User_Profile = Feature_Set.transpose().dot(InputRatings.transpose())\nUser_Profile.head()"
        },
        {
            "cell_type": "code",
            "execution_count": 263,
            "metadata": {},
            "outputs": [
                {
                    "data": {
                        "text/html": "<div>\n<style scoped>\n    .dataframe tbody tr th:only-of-type {\n        vertical-align: middle;\n    }\n\n    .dataframe tbody tr th {\n        vertical-align: top;\n    }\n\n    .dataframe thead th {\n        text-align: right;\n    }\n</style>\n<table border=\"1\" class=\"dataframe\">\n  <thead>\n    <tr style=\"text-align: right;\">\n      <th></th>\n      <th>Similarity</th>\n    </tr>\n  </thead>\n  <tbody>\n    <tr>\n      <th>Caf\u00e9</th>\n      <td>2.871852</td>\n    </tr>\n    <tr>\n      <th>Greek Restaurant</th>\n      <td>2.201481</td>\n    </tr>\n    <tr>\n      <th>Bakery</th>\n      <td>1.510741</td>\n    </tr>\n    <tr>\n      <th>Italian Restaurant</th>\n      <td>1.291111</td>\n    </tr>\n    <tr>\n      <th>Coffee Shop</th>\n      <td>1.020000</td>\n    </tr>\n    <tr>\n      <th>Taverna</th>\n      <td>0.990741</td>\n    </tr>\n    <tr>\n      <th>Supermarket</th>\n      <td>0.830000</td>\n    </tr>\n    <tr>\n      <th>Bar</th>\n      <td>0.810370</td>\n    </tr>\n    <tr>\n      <th>Souvlaki Shop</th>\n      <td>0.790370</td>\n    </tr>\n    <tr>\n      <th>Dessert Shop</th>\n      <td>0.680000</td>\n    </tr>\n  </tbody>\n</table>\n</div>",
                        "text/plain": "                    Similarity\nCaf\u00e9                  2.871852\nGreek Restaurant      2.201481\nBakery                1.510741\nItalian Restaurant    1.291111\nCoffee Shop           1.020000\nTaverna               0.990741\nSupermarket           0.830000\nBar                   0.810370\nSouvlaki Shop         0.790370\nDessert Shop          0.680000"
                    },
                    "execution_count": 263,
                    "metadata": {},
                    "output_type": "execute_result"
                }
            ],
            "source": "user_Favourite_Venues = User_Profile.rename(columns = {'Rating':'Similarity'}).sort_values('Similarity', ascending = False).head(10)\nuser_Favourite_Venues"
        },
        {
            "cell_type": "code",
            "execution_count": 264,
            "metadata": {},
            "outputs": [
                {
                    "data": {
                        "text/html": "<div>\n<style scoped>\n    .dataframe tbody tr th:only-of-type {\n        vertical-align: middle;\n    }\n\n    .dataframe tbody tr th {\n        vertical-align: top;\n    }\n\n    .dataframe thead th {\n        text-align: right;\n    }\n</style>\n<table border=\"1\" class=\"dataframe\">\n  <thead>\n    <tr style=\"text-align: right;\">\n      <th></th>\n      <th>Rating</th>\n    </tr>\n    <tr>\n      <th>Neighborhood</th>\n      <th></th>\n    </tr>\n  </thead>\n  <tbody>\n    <tr>\n      <th>Acharnes</th>\n      <td>1.055296</td>\n    </tr>\n    <tr>\n      <th>Agia Paraskevi</th>\n      <td>0.775444</td>\n    </tr>\n    <tr>\n      <th>Alimos</th>\n      <td>0.669281</td>\n    </tr>\n    <tr>\n      <th>Ano Liosia</th>\n      <td>1.105602</td>\n    </tr>\n    <tr>\n      <th>Argiroupoli</th>\n      <td>0.771821</td>\n    </tr>\n  </tbody>\n</table>\n</div>",
                        "text/plain": "                  Rating\nNeighborhood            \nAcharnes        1.055296\nAgia Paraskevi  0.775444\nAlimos          0.669281\nAno Liosia      1.105602\nArgiroupoli     0.771821"
                    },
                    "execution_count": 264,
                    "metadata": {},
                    "output_type": "execute_result"
                }
            ],
            "source": "Recommendation_Matrix = neighborhood_venues[list_of_categories].dot(User_Profile)\nRecommendation_Matrix.head()"
        },
        {
            "cell_type": "code",
            "execution_count": 265,
            "metadata": {},
            "outputs": [],
            "source": "Recommendation_Matrix.sort_values('Rating', ascending = False, inplace = True)"
        },
        {
            "cell_type": "code",
            "execution_count": 266,
            "metadata": {},
            "outputs": [
                {
                    "data": {
                        "text/html": "<div>\n<style scoped>\n    .dataframe tbody tr th:only-of-type {\n        vertical-align: middle;\n    }\n\n    .dataframe tbody tr th {\n        vertical-align: top;\n    }\n\n    .dataframe thead th {\n        text-align: right;\n    }\n</style>\n<table border=\"1\" class=\"dataframe\">\n  <thead>\n    <tr style=\"text-align: right;\">\n      <th></th>\n      <th>Rating</th>\n    </tr>\n    <tr>\n      <th>Neighborhood</th>\n      <th></th>\n    </tr>\n  </thead>\n  <tbody>\n    <tr>\n      <th>Ano Liosia</th>\n      <td>1.105602</td>\n    </tr>\n    <tr>\n      <th>Galatsi</th>\n      <td>1.096870</td>\n    </tr>\n    <tr>\n      <th>Paiania</th>\n      <td>1.093033</td>\n    </tr>\n    <tr>\n      <th>Kryoneri</th>\n      <td>1.069519</td>\n    </tr>\n    <tr>\n      <th>Acharnes</th>\n      <td>1.055296</td>\n    </tr>\n    <tr>\n      <th>Petroupoli</th>\n      <td>1.031541</td>\n    </tr>\n    <tr>\n      <th>Zografou</th>\n      <td>0.977307</td>\n    </tr>\n    <tr>\n      <th>Nea Makri</th>\n      <td>0.961825</td>\n    </tr>\n    <tr>\n      <th>Gkizi</th>\n      <td>0.883544</td>\n    </tr>\n    <tr>\n      <th>Ilion</th>\n      <td>0.879046</td>\n    </tr>\n  </tbody>\n</table>\n</div>",
                        "text/plain": "                Rating\nNeighborhood          \nAno Liosia    1.105602\nGalatsi       1.096870\nPaiania       1.093033\nKryoneri      1.069519\nAcharnes      1.055296\nPetroupoli    1.031541\nZografou      0.977307\nNea Makri     0.961825\nGkizi         0.883544\nIlion         0.879046"
                    },
                    "execution_count": 266,
                    "metadata": {},
                    "output_type": "execute_result"
                }
            ],
            "source": "top_10_Options = Recommendation_Matrix.drop(InputRatings.columns.values).head(10)\ntop_10_Options"
        },
        {
            "cell_type": "markdown",
            "metadata": {},
            "source": "## Visualize in a map the best options for the User"
        },
        {
            "cell_type": "code",
            "execution_count": 267,
            "metadata": {},
            "outputs": [],
            "source": "# Find for the top 10 options their location\n\ntop_10_loc = df.set_index('Neighborhoods').loc[top_10_Options.transpose().columns.values][['Latitudes','Longitudes']]"
        },
        {
            "cell_type": "code",
            "execution_count": 268,
            "metadata": {},
            "outputs": [
                {
                    "data": {
                        "text/html": "<div>\n<style scoped>\n    .dataframe tbody tr th:only-of-type {\n        vertical-align: middle;\n    }\n\n    .dataframe tbody tr th {\n        vertical-align: top;\n    }\n\n    .dataframe thead th {\n        text-align: right;\n    }\n</style>\n<table border=\"1\" class=\"dataframe\">\n  <thead>\n    <tr style=\"text-align: right;\">\n      <th></th>\n      <th>Latitudes</th>\n      <th>Longitudes</th>\n    </tr>\n    <tr>\n      <th>Neighborhoods</th>\n      <th></th>\n      <th></th>\n    </tr>\n  </thead>\n  <tbody>\n    <tr>\n      <th>Ano Liosia</th>\n      <td>38.081266</td>\n      <td>23.698601</td>\n    </tr>\n    <tr>\n      <th>Galatsi</th>\n      <td>38.018361</td>\n      <td>23.754698</td>\n    </tr>\n    <tr>\n      <th>Paiania</th>\n      <td>37.955042</td>\n      <td>23.852486</td>\n    </tr>\n    <tr>\n      <th>Kryoneri</th>\n      <td>38.136250</td>\n      <td>23.828648</td>\n    </tr>\n    <tr>\n      <th>Acharnes</th>\n      <td>38.084607</td>\n      <td>23.737183</td>\n    </tr>\n  </tbody>\n</table>\n</div>",
                        "text/plain": "               Latitudes  Longitudes\nNeighborhoods                       \nAno Liosia     38.081266   23.698601\nGalatsi        38.018361   23.754698\nPaiania        37.955042   23.852486\nKryoneri       38.136250   23.828648\nAcharnes       38.084607   23.737183"
                    },
                    "execution_count": 268,
                    "metadata": {},
                    "output_type": "execute_result"
                }
            ],
            "source": "top_10_loc.head()"
        },
        {
            "cell_type": "code",
            "execution_count": 269,
            "metadata": {},
            "outputs": [],
            "source": "attica_location = (37.931582, 23.878146)\nattica_map = folium.Map(location=attica_location, zoom_start = 11)\nRadius = np.linspace(7, 3, num=10)\n\nfor label, lat, lon, nRadius in zip(top_10_Options.transpose().columns.values, top_10_loc.Latitudes, top_10_loc.Longitudes, Radius):\n      \n    folium.CircleMarker(\n            [lat, lon],\n            radius=nRadius,\n            popup=label,\n            color='blue',\n            fill=True,\n            fill_color='blue',\n            fill_opacity=0.7).add_to(attica_map)\n    \n#add also rated areas\ninput_loc = df.set_index('Neighborhoods').loc[InputRatings.columns.values][['Latitudes','Longitudes']]\n\nfor label, lat, lon, rat in zip(InputRatings.columns.values, input_loc.Latitudes, input_loc.Longitudes, InputRatings.loc['Rating']):\n      \n    folium.CircleMarker(\n            [lat, lon],\n            radius=5,\n            popup=label + ', Rating:' + str(rat) ,\n            color='red',\n            fill=True,\n            fill_color='red',\n            fill_opacity=0.7).add_to(attica_map)"
        },
        {
            "cell_type": "markdown",
            "metadata": {},
            "source": "### Red color - Rated Areas / Blue color - Best options for visit (Radius is proportional to the idealty)"
        },
        {
            "cell_type": "code",
            "execution_count": 270,
            "metadata": {},
            "outputs": [
                {
                    "data": {
                        "text/html": "<div style=\"width:100%;\"><div style=\"position:relative;width:100%;height:0;padding-bottom:60%;\"><span style=\"color:#565656\">Make this Notebook Trusted to load map: File -> Trust Notebook</span><iframe src=\"about:blank\" style=\"position:absolute;width:100%;height:100%;left:0;top:0;border:none !important;\" data-html=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 onload=\"this.contentDocument.open();this.contentDocument.write(atob(this.getAttribute('data-html')));this.contentDocument.close();\" allowfullscreen webkitallowfullscreen mozallowfullscreen></iframe></div></div>",
                        "text/plain": "<folium.folium.Map at 0x7f54dd34a350>"
                    },
                    "execution_count": 270,
                    "metadata": {},
                    "output_type": "execute_result"
                }
            ],
            "source": "attica_map"
        }
    ],
    "metadata": {
        "kernelspec": {
            "display_name": "Python 3.7",
            "language": "python",
            "name": "python3"
        },
        "language_info": {
            "codemirror_mode": {
                "name": "ipython",
                "version": 3
            },
            "file_extension": ".py",
            "mimetype": "text/x-python",
            "name": "python",
            "nbconvert_exporter": "python",
            "pygments_lexer": "ipython3",
            "version": "3.7.9"
        }
    },
    "nbformat": 4,
    "nbformat_minor": 1
}